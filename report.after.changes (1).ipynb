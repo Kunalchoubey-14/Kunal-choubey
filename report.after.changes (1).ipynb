{
 "cells": [
  {
   "cell_type": "code",
   "execution_count": 40,
   "id": "117c4b30-200e-4320-904a-88d26f89480f",
   "metadata": {},
   "outputs": [
    {
     "name": "stdout",
     "output_type": "stream",
     "text": [
      "Top categories' sales before and after marketing focus:\n",
      "              Amount  SimulatedAmount\n",
      "Category                             \n",
      "T-shirt   3847914.91      4232706.401\n",
      "Shirt     1943312.56      2137643.816\n",
      "Blazzer    749531.33       824484.463\n"
     ]
    }
   ],
   "source": [
    "import pandas as pd\n",
    "\n",
    "\n",
    "sales_data = pd.read_csv('C:\\\\Users\\\\kunal\\\\Desktop\\\\Amazon Sales Report.csv')\n",
    "\n",
    "# Identify top categories\n",
    "top_categories = sales_data.groupby('Category')['Amount'].sum().nlargest(3).index\n",
    "\n",
    "# Simulate increased sales by 10% for top categories\n",
    "sales_data['SimulatedAmount'] = sales_data.apply(\n",
    "    lambda x: x['Amount'] * 1.10 if x['Category'] in top_categories else x['Amount'],\n",
    "    axis=1\n",
    ")\n",
    "\n",
    "# Display impact\n",
    "print(\"Top categories' sales before and after marketing focus:\")\n",
    "impact = sales_data.groupby('Category')[['Amount', 'SimulatedAmount']].sum()\n",
    "print(impact.loc[top_categories])\n"
   ]
  },
  {
   "cell_type": "code",
   "execution_count": 28,
   "id": "59a08694-2d9a-4824-9acc-17d296fde4e6",
   "metadata": {},
   "outputs": [
    {
     "name": "stdout",
     "output_type": "stream",
     "text": [
      "Sales amount before and after improved stock management:\n",
      "              Amount  SimulatedAmount\n",
      "Category                             \n",
      "T-shirt   3847914.91     4.040311e+06\n",
      "Shirt     1943312.56     2.040478e+06\n",
      "Blazzer    749531.33     7.870079e+05\n"
     ]
    }
   ],
   "source": [
    "# Simulate a 5% increase in sales for top products\n",
    "sales_data['SimulatedAmount'] = sales_data.apply(\n",
    "    lambda x: x['Amount'] * 1.05 if x['Category'] in top_categories else x['Amount'],\n",
    "    axis=1\n",
    ")\n",
    "\n",
    "\n",
    "print(\"Sales amount before and after improved stock management:\")\n",
    "stock_impact = sales_data.groupby('Category')[['Amount', 'SimulatedAmount']].sum()\n",
    "print(stock_impact.loc[top_categories])\n",
    "\n"
   ]
  },
  {
   "cell_type": "code",
   "execution_count": 30,
   "id": "d45e8f0b-e7ff-4733-b349-12868cc58fae",
   "metadata": {},
   "outputs": [
    {
     "name": "stdout",
     "output_type": "stream",
     "text": [
      "Total sales amount before and after logistics optimization:\n",
      "Amount             7163361.100\n",
      "SimulatedAmount    7378261.933\n",
      "dtype: float64\n"
     ]
    }
   ],
   "source": [
    "# Simulate logistics optimization\n",
    "sales_data['SimulatedAmount'] = sales_data['Amount'] * 1.03\n",
    "\n",
    "\n",
    "total_impact = sales_data[['Amount', 'SimulatedAmount']].sum()\n",
    "print(\"Total sales amount before and after logistics optimization:\")\n",
    "print(total_impact)\n"
   ]
  },
  {
   "cell_type": "code",
   "execution_count": 32,
   "id": "4be6b37b-de10-4361-bc70-5d2b54b365c0",
   "metadata": {},
   "outputs": [
    {
     "name": "stdout",
     "output_type": "stream",
     "text": [
      "Sales amount before and after loyalty programs for top customers:\n",
      "                     Amount  SimulatedAmount\n",
      "Order ID                                    \n",
      "406-9002076-4152331  6509.0           7159.9\n",
      "403-4106553-1691525  5495.0           6044.5\n",
      "171-2644368-7969167  5186.0           5704.6\n",
      "402-1482834-5739526  4871.0           5358.1\n",
      "404-7386718-9479548  4753.0           5228.3\n",
      "408-9189814-1337959  4090.0           4499.0\n",
      "405-1312067-6113919  4032.0           4435.2\n",
      "407-3808386-0623504  3686.0           4054.6\n",
      "407-5640715-7774715  3636.0           3999.6\n",
      "407-6004648-5874743  3575.0           3932.5\n"
     ]
    }
   ],
   "source": [
    "\n",
    "top_customers = sales_data.groupby('Order ID')['Amount'].sum().nlargest(10).index\n",
    "\n",
    "# Simulate increased sales for top customers\n",
    "sales_data['SimulatedAmount'] = sales_data.apply(\n",
    "    lambda x: x['Amount'] * 1.10 if x['Order ID'] in top_customers else x['Amount'],\n",
    "    axis=1\n",
    ")\n",
    "\n",
    "# Display impact\n",
    "print(\"Sales amount before and after loyalty programs for top customers:\")\n",
    "loyalty_impact = sales_data.groupby('Order ID')[['Amount', 'SimulatedAmount']].sum()\n",
    "print(loyalty_impact.loc[top_customers])\n"
   ]
  },
  {
   "cell_type": "code",
   "execution_count": 34,
   "id": "e478cfe6-854e-4787-b9c7-864f92937a79",
   "metadata": {},
   "outputs": [
    {
     "name": "stdout",
     "output_type": "stream",
     "text": [
      "Total sales amount before and after personalization:\n",
      "Amount             7163361.100\n",
      "SimulatedAmount    7306628.322\n",
      "dtype: float64\n"
     ]
    }
   ],
   "source": [
    "# Simulate personalization impact\n",
    "sales_data['SimulatedAmount'] = sales_data['Amount'] * 1.02\n",
    "\n",
    "\n",
    "total_personalization_impact = sales_data[['Amount', 'SimulatedAmount']].sum()\n",
    "print(\"Total sales amount before and after personalization:\")\n",
    "print(total_personalization_impact)\n"
   ]
  },
  {
   "cell_type": "code",
   "execution_count": 36,
   "id": "93f8edfd-2424-49d3-b9d4-0c82341b6346",
   "metadata": {},
   "outputs": [
    {
     "name": "stdout",
     "output_type": "stream",
     "text": [
      "Sales amount before and after regional focus:\n",
      "                   Amount  SimulatedAmount\n",
      "ship-state                                \n",
      "MAHARASHTRA    1228851.36     1.327159e+06\n",
      "KARNATAKA       922090.07     9.958573e+05\n",
      "UTTAR PRADESH   653113.20     7.053623e+05\n"
     ]
    }
   ],
   "source": [
    "\n",
    "top_states = sales_data.groupby('ship-state')['Amount'].sum().nlargest(3).index\n",
    "\n",
    "# Simulate increased sales in top states\n",
    "sales_data['SimulatedAmount'] = sales_data.apply(\n",
    "    lambda x: x['Amount'] * 1.08 if x['ship-state'] in top_states else x['Amount'],\n",
    "    axis=1\n",
    ")\n",
    "\n",
    "\n",
    "print(\"Sales amount before and after regional focus:\")\n",
    "state_impact = sales_data.groupby('ship-state')[['Amount', 'SimulatedAmount']].sum()\n",
    "print(state_impact.loc[top_states])\n"
   ]
  },
  {
   "cell_type": "code",
   "execution_count": 38,
   "id": "496458ec-e2be-47b1-bfae-1a47dd5c138a",
   "metadata": {},
   "outputs": [
    {
     "name": "stdout",
     "output_type": "stream",
     "text": [
      "Total sales amount before and after tailored marketing campaigns:\n",
      "Amount             7163361.100\n",
      "SimulatedAmount    7521529.155\n",
      "dtype: float64\n"
     ]
    }
   ],
   "source": [
    "# Simulate regional campaign impact\n",
    "sales_data['SimulatedAmount'] = sales_data['Amount'] * 1.05\n",
    "\n",
    "\n",
    "total_campaign_impact = sales_data[['Amount', 'SimulatedAmount']].sum()\n",
    "print(\"Total sales amount before and after tailored marketing campaigns:\")\n",
    "print(total_campaign_impact)\n"
   ]
  },
  {
   "cell_type": "code",
   "execution_count": null,
   "id": "04230b40-e559-47cb-9ad7-c3ab83f34dd3",
   "metadata": {},
   "outputs": [],
   "source": []
  }
 ],
 "metadata": {
  "kernelspec": {
   "display_name": "Python 3 (ipykernel)",
   "language": "python",
   "name": "python3"
  },
  "language_info": {
   "codemirror_mode": {
    "name": "ipython",
    "version": 3
   },
   "file_extension": ".py",
   "mimetype": "text/x-python",
   "name": "python",
   "nbconvert_exporter": "python",
   "pygments_lexer": "ipython3",
   "version": "3.12.4"
  }
 },
 "nbformat": 4,
 "nbformat_minor": 5
}
